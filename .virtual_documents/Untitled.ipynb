import pandas as pd

df=pd.read_excel(r'C:\Users\David\Documents\Progs\ICMM AMD Tool\ICMM-INAP-ARD_ML-ToolUNLOCKED_Automatic Password setting removed.xlsm', sheet_name='Database')
options=pd.read_excel(r'C:\Users\David\Documents\Progs\ICMM AMD Tool\ICMM-INAP-ARD_ML-ToolUNLOCKED_Automatic Password setting removed.xlsm', sheet_name='Options Table')
optionsT=options.T
df.set_index('DSS No.', inplace=True)

df.to_csv("database.csv", encoding='utf-8')
options.to_csv('options.csv', encoding='utf-8',index=False)
dict_vers=df.to_dict(orient='index')
options.head()


dict_vers


Asset_dev_stages= ['Exploration','Design','Construction','Operations','Closure','Post-Closure']
Leacing_prac_activity= ['Define ARD/ML governance and strategy at corporate level',
'Set ARD/ML objectives, standards, and KPIs at asset level',
'Characterisation',
'Prediction',
'Prevention, mitigation, and treatment',
'Monitoring program plan',
'Development and integration with mine, water, waste, and closure plans',
'Integration with mine planning and operations',
'Transparency in data management and reporting',
'Adaptive management',
'Integrated closure']




Asset_dev_stages


Leacing_prac_activity


import pandas as pd

# Sample DataFrame
df = pd.DataFrame({
    'Product': ['Apple', 'Banana', 'Orange'],
    'Region_A': [100, 150, 200],
    'Region_B': [120, 180, 220]
})

# Get the value for 'Banana' in 'Region_B'
product_to_find = 'Banana'
region_to_find = 'Region_B'

value = df.loc[df['Product'] == product_to_find, region_to_find].iloc[0]
print(f"Sales of {product_to_find} in {region_to_find}: {value}")


df



